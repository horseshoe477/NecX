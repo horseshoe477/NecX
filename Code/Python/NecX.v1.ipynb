{
 "metadata": {
  "name": "NecX_Analysis"
 },
 "nbformat": 3,
 "nbformat_minor": 0,
 "worksheets": [
  {
   "cells": [
    {
     "cell_type": "code",
     "collapsed": false,
     "input": "from pandas import read_csv\nimport matplotlib.pyplot as plt\nimport numpy as np\nfrom numpy import fft       # FT\nfrom scipy import fftpack   # DFT\n\n# ===============================================\ndef movingAvg(values,window):\n    weigths = np.repeat(1.0, window)/window\n    smas = np.convolve(values, weigths, 'valid')\n    return smas # as a numpy array\n# ===============================================\ndef truncate(x,size):\n    return x[size:len(x)-size]\n# ===============================================\n\nDB = '/Volumes/Data/local/download/Research/NecX/GitHub/NecX/Data/20140508/'\nfilename  = 'NecX_RTilt.csv'\nRoot = DB + filename\nf = open(Root)\nlines = f.readlines()\nif filename=='NecX_LRotate.csv':    # Fix incorrect format in the data set\n    lines = [l.split('\\r') for l in lines][0]\nf.close()",
     "language": "python",
     "metadata": {},
     "outputs": [],
     "prompt_number": 3
    },
    {
     "cell_type": "code",
     "collapsed": false,
     "input": "# ====================================\n# Read raw data\n# ====================================\nch = 2\n\n# Fill-in data array\nrawData = [[0]*len(lines) for i in range(ch)]\nfor idx in range(len(rawData[0])):\n    tokens = lines[idx].split(',')\n    if len(tokens)==3:\n        rawData[0][idx] = (float)(tokens[0])\n        rawData[1][idx] = (float)(tokens[2])\n        \n# Plotting\nplt.close('all')\n#plt.close(f1)\nx = np.linspace(0, len(rawData[0]), num=len(rawData[0]))\nf1, ax1 = plt.subplots(ch, sharex=True, sharey=False, figsize=(10, 6))\nfor i in range(ch):\n    ax1[i].plot(x, rawData[i])\n    ax1[i].set_ylabel('ch'+str(i))\nplt.title('Raw')",
     "language": "python",
     "metadata": {},
     "outputs": [
      {
       "output_type": "pyout",
       "prompt_number": 6,
       "text": "<matplotlib.text.Text at 0x104e49dd0>"
      }
     ],
     "prompt_number": 6
    },
    {
     "cell_type": "code",
     "collapsed": false,
     "input": "# ====================================\n# Moving average\n# ====================================\nsmoothWinSize = 50\nsmoData = [None]*2\nfor i in range(ch):\n    smoData[i] = movingAvg(rawData[i], smoothWinSize)\n    \n# Plotting\n#plt.close(f2)\nx = np.linspace(0, len(smoData[0]), num=len(smoData[0]))\nf2, ax2 = plt.subplots(ch, sharex=True, sharey=False, figsize=(10, 6))\nfor i in range(ch):\n    ax2[i].plot(x, smoData[i])\nplt.title('Smoothed')",
     "language": "python",
     "metadata": {},
     "outputs": [
      {
       "output_type": "pyout",
       "prompt_number": 8,
       "text": "<matplotlib.text.Text at 0x1069b3810>"
      }
     ],
     "prompt_number": 8
    },
    {
     "cell_type": "code",
     "collapsed": false,
     "input": "# ====================================\n# 1st Derivative\n# ====================================\n#difData = [[0]*len(smoData[0]) for i in range(ch)]   # Initialize the array\ndifData = [None]*2\nfor i in range(ch):\n    difData[i] = np.diff(smoData[i])\n\n# Plotting\n#plt.close(f3)\nx = np.linspace(0, len(difData[0]), num=len(difData[0]))\nf3, ax3 = plt.subplots(ch, sharex=True, sharey=True, figsize=(10, 6))\nfor i in range(ch):\n    ax3[i].plot(x, difData[i])\n    ax3[i].set_ylabel('ch'+str(i))\nplt.title('1st Derivative')",
     "language": "python",
     "metadata": {},
     "outputs": [
      {
       "output_type": "pyout",
       "prompt_number": 10,
       "text": "<matplotlib.text.Text at 0x106a8f450>"
      }
     ],
     "prompt_number": 10
    },
    {
     "cell_type": "code",
     "collapsed": false,
     "input": "# ====================================\n# Absolute of the 1st Derivative\n# ====================================\nfor i in range(ch):\n    difData[i] = np.absolute(difData[i])\n\n# Abs of 1st Derivative\n#plt.close(f4)\nx = np.linspace(0, len(difData[0]), num=len(difData[0]))\nf4, ax4 = plt.subplots(ch, sharex=True, sharey=True, figsize=(10, 6))\nfor i in range(ch):\n    ax4[i].plot(x, difData[i])\n    ax4[i].set_ylabel('ch'+str(i))\nplt.title('Abs of 1st Derivative')",
     "language": "python",
     "metadata": {},
     "outputs": [
      {
       "ename": "NameError",
       "evalue": "name 'f4' is not defined",
       "output_type": "pyerr",
       "traceback": [
        "\u001b[0;31m---------------------------------------------------------------------------\u001b[0m\n\u001b[0;31mNameError\u001b[0m                                 Traceback (most recent call last)",
        "\u001b[0;32m<ipython-input-11-93fe008b3eff>\u001b[0m in \u001b[0;36m<module>\u001b[0;34m()\u001b[0m\n\u001b[1;32m      6\u001b[0m \u001b[0;34m\u001b[0m\u001b[0m\n\u001b[1;32m      7\u001b[0m \u001b[0;31m# Abs of 1st Derivative\u001b[0m\u001b[0;34m\u001b[0m\u001b[0;34m\u001b[0m\u001b[0m\n\u001b[0;32m----> 8\u001b[0;31m \u001b[0mplt\u001b[0m\u001b[0;34m.\u001b[0m\u001b[0mclose\u001b[0m\u001b[0;34m(\u001b[0m\u001b[0mf4\u001b[0m\u001b[0;34m)\u001b[0m\u001b[0;34m\u001b[0m\u001b[0m\n\u001b[0m\u001b[1;32m      9\u001b[0m \u001b[0mx\u001b[0m \u001b[0;34m=\u001b[0m \u001b[0mnp\u001b[0m\u001b[0;34m.\u001b[0m\u001b[0mlinspace\u001b[0m\u001b[0;34m(\u001b[0m\u001b[0;36m0\u001b[0m\u001b[0;34m,\u001b[0m \u001b[0mlen\u001b[0m\u001b[0;34m(\u001b[0m\u001b[0mdifData\u001b[0m\u001b[0;34m[\u001b[0m\u001b[0;36m0\u001b[0m\u001b[0;34m]\u001b[0m\u001b[0;34m)\u001b[0m\u001b[0;34m,\u001b[0m \u001b[0mnum\u001b[0m\u001b[0;34m=\u001b[0m\u001b[0mlen\u001b[0m\u001b[0;34m(\u001b[0m\u001b[0mdifData\u001b[0m\u001b[0;34m[\u001b[0m\u001b[0;36m0\u001b[0m\u001b[0;34m]\u001b[0m\u001b[0;34m)\u001b[0m\u001b[0;34m)\u001b[0m\u001b[0;34m\u001b[0m\u001b[0m\n\u001b[1;32m     10\u001b[0m \u001b[0mf4\u001b[0m\u001b[0;34m,\u001b[0m \u001b[0max4\u001b[0m \u001b[0;34m=\u001b[0m \u001b[0mplt\u001b[0m\u001b[0;34m.\u001b[0m\u001b[0msubplots\u001b[0m\u001b[0;34m(\u001b[0m\u001b[0mch\u001b[0m\u001b[0;34m,\u001b[0m \u001b[0msharex\u001b[0m\u001b[0;34m=\u001b[0m\u001b[0mTrue\u001b[0m\u001b[0;34m,\u001b[0m \u001b[0msharey\u001b[0m\u001b[0;34m=\u001b[0m\u001b[0mTrue\u001b[0m\u001b[0;34m,\u001b[0m \u001b[0mfigsize\u001b[0m\u001b[0;34m=\u001b[0m\u001b[0;34m(\u001b[0m\u001b[0;36m10\u001b[0m\u001b[0;34m,\u001b[0m \u001b[0;36m6\u001b[0m\u001b[0;34m)\u001b[0m\u001b[0;34m)\u001b[0m\u001b[0;34m\u001b[0m\u001b[0m\n",
        "\u001b[0;31mNameError\u001b[0m: name 'f4' is not defined"
       ]
      }
     ],
     "prompt_number": 11
    },
    {
     "cell_type": "code",
     "collapsed": false,
     "input": "# ====================================\n# Sum of absolute of the 1st Derivative\n# ====================================\nsegSmoWinSize = 80\nsumOfDif = movingAvg([x + y for x, y in zip(difData[0], difData[1])], segSmoWinSize)\ndif_sumOfDif = movingAvg(np.diff(sumOfDif), segSmoWinSize)\n\n# Plotting\nplt.close(f5)\nf5, ax5 = plt.subplots(ch, sharex=True, sharey=False, figsize=(10, 6))\n\nx = np.linspace(0, len(sumOfDif), num=len(sumOfDif))\nax5[0].plot(x, sumOfDif)\nax5[0].set_ylabel('Sum of Diff')\n\nx = np.linspace(0, len(dif_sumOfDif), num=len(dif_sumOfDif))\nax5[1].plot(x, dif_sumOfDif)\nax5[1].set_ylabel('Diff of Sum of Diff')",
     "language": "python",
     "metadata": {},
     "outputs": [
      {
       "output_type": "pyout",
       "prompt_number": 341,
       "text": "<matplotlib.text.Text at 0x118c95e50>"
      }
     ],
     "prompt_number": 341
    },
    {
     "cell_type": "code",
     "collapsed": false,
     "input": "# ====================================\n# Segmentation\n# ====================================\nTh = 0.02\nslideWinSize = 300\nminWin = slideWinSize*0.5\ncenterShift = smoothWinSize*2.3\nsegSize = smoothWinSize*2.35\n\nsegStart = []\nsegEnd = []\nsegCenter = []    # Center index of a segmentation\ni = 0\nwhile i < len(dif_sumOfDif)-1:\n    i = i + 1\n    hit = False\n    if dif_sumOfDif[i-1]<Th and dif_sumOfDif[i]>=Th:\n        start = i\n        while i < start+slideWinSize and i < len(dif_sumOfDif)-1:\n            i = i + 1\n            if dif_sumOfDif[i-1] < -Th and dif_sumOfDif[i] >= -Th:\n                end = i\n                if end-start > minWin:   # Gesture length is not too short (half window size)\n                    hit = True\n        if hit == True:\n            segStart.append(start)\n            segEnd.append(end)\n            segCenter.append(math.floor((start+end)/2) + centerShift)\n            hit = False\n            i = end+1\n            \nfor i in range(len(segCenter)):\n    # Plot the segment\n    ax2[0].axvspan(segCenter[i]-segSize, segCenter[i]+segSize, facecolor='g', alpha=0.25)\n    ax2[1].axvspan(segCenter[i]-segSize, segCenter[i]+segSize, facecolor='g', alpha=0.25)\n    # Plot the threshold line\n    ax5[0].axvspan(segStart[i]+50, segEnd[i]+50, facecolor='r', alpha=0.25)\n    ax5[1].axhline(y=Th, linewidth=2, color='r')\n    ax5[1].axhline(y=-Th, linewidth=2, color='r')",
     "language": "python",
     "metadata": {},
     "outputs": [],
     "prompt_number": 342
    },
    {
     "cell_type": "code",
     "collapsed": false,
     "input": "'''\n# ===============================================\n# FFT\nf2 = plt.figure()\nfor i in range(len(data)):\n    n = len(data[i])\n    dt = 0.00056 # unit: sec (i.e., 18K Hz)\n    Fk = fftpack.fft(data[i])/n   # FFT coefficients\n    Nu = fftpack.fftfreq(n,dt)    # Natural frequencies \n    Fk = fftpack.fftshift(Fk)     # Shift zero freq to center \n    Nu = fftpack.fftshift(Nu)     # Shift zero freq to center \n \n    # Calculate the spectrum power\n    Pk = np.absolute(Fk)**2\n    #Pk = movingAvg(Pk,3)   # Moving Average\n    # Only need half of it\n    baseBand = (int)(len(Pk)/2)\n#    Pk = Pk[baseBand-30:baseBand+30]\n    \n    # Plot\n    x = np.linspace(0, len(Pk), num=len(Pk))\n#    plt.plot(x,Pk)\n    plt.plot(Nu,Pk)\n    # Set up the plot range\n    plt.ylim(0,1)\n# ===============================================\n'''",
     "language": "python",
     "metadata": {},
     "outputs": [
      {
       "output_type": "pyout",
       "prompt_number": 47,
       "text": "'\\n# ===============================================\\n# FFT\\nf2 = plt.figure()\\nfor i in range(len(data)):\\n    n = len(data[i])\\n    dt = 0.00056 # unit: sec (i.e., 18K Hz)\\n    Fk = fftpack.fft(data[i])/n   # FFT coefficients\\n    Nu = fftpack.fftfreq(n,dt)    # Natural frequencies \\n    Fk = fftpack.fftshift(Fk)     # Shift zero freq to center \\n    Nu = fftpack.fftshift(Nu)     # Shift zero freq to center \\n \\n    # Calculate the spectrum power\\n    Pk = np.absolute(Fk)**2\\n    #Pk = movingAvg(Pk,3)   # Moving Average\\n    # Only need half of it\\n    baseBand = (int)(len(Pk)/2)\\n#    Pk = Pk[baseBand-30:baseBand+30]\\n    \\n    # Plot\\n    x = np.linspace(0, len(Pk), num=len(Pk))\\n#    plt.plot(x,Pk)\\n    plt.plot(Nu,Pk)\\n    # Set up the plot range\\n    plt.ylim(0,1)\\n# ===============================================\\n'"
      }
     ],
     "prompt_number": 47
    },
    {
     "cell_type": "code",
     "collapsed": false,
     "input": "'''\n# Truncate unnecessary parts\ntruncateSize = 550\nfor idx in range(ch):\n    data[idx] = truncate(data[idx], truncateSize)\n'''",
     "language": "python",
     "metadata": {},
     "outputs": [
      {
       "output_type": "pyout",
       "prompt_number": 139,
       "text": "'\\n# Truncate unnecessary parts\\ntruncateSize = 550\\nfor idx in range(ch):\\n    data[idx] = truncate(data[idx], truncateSize)\\n'"
      }
     ],
     "prompt_number": 139
    },
    {
     "cell_type": "code",
     "collapsed": false,
     "input": "print difData\n\nnp.diff(difData[0])",
     "language": "python",
     "metadata": {},
     "outputs": [
      {
       "output_type": "stream",
       "stream": "stdout",
       "text": "[array([0, 0, 0, ..., 0, 0, 0]), array([0, 0, 0, ..., 0, 0, 0])]\n"
      },
      {
       "output_type": "pyout",
       "prompt_number": 217,
       "text": "array([0, 0, 0, ..., 0, 0, 0])"
      }
     ],
     "prompt_number": 217
    },
    {
     "cell_type": "code",
     "collapsed": false,
     "input": "",
     "language": "python",
     "metadata": {},
     "outputs": []
    }
   ],
   "metadata": {}
  }
 ]
}